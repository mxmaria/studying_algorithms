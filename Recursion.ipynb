{
  "cells": [
    {
      "cell_type": "markdown",
      "source": [
        "## Recursion"
      ],
      "metadata": {
        "nteract": {
          "transient": {
            "deleting": false
          }
        }
      }
    },
    {
      "cell_type": "code",
      "source": [
        "# There is a box with a smaller boxes inside.\n",
        "# There is a key inside one of the boxes.\n",
        "# How to find a key?\n",
        "\n",
        "def look_for_key(box):\n",
        "    for item in box:\n",
        "        if item.is_a_box():\n",
        "            look_for_key(item)\n",
        "        elif item.is_a_key():\n",
        "            print('found the key!')"
      ],
      "outputs": [],
      "execution_count": 2,
      "metadata": {
        "collapsed": true,
        "outputExpanded": false,
        "jupyter": {
          "source_hidden": false,
          "outputs_hidden": false
        },
        "nteract": {
          "transient": {
            "deleting": false
          }
        },
        "execution": {
          "shell.execute_reply": "2020-04-28T14:01:34.900Z",
          "iopub.status.busy": "2020-04-28T14:01:34.886Z",
          "iopub.execute_input": "2020-04-28T14:01:34.890Z",
          "iopub.status.idle": "2020-04-28T14:01:34.895Z"
        }
      }
    },
    {
      "cell_type": "code",
      "source": [
        "# Сountdown from a specific number\n",
        "\n",
        "def countdown(i):\n",
        "    print(i)\n",
        "    if i <= 0:\n",
        "        return\n",
        "    else:countdown(i-1)"
      ],
      "outputs": [],
      "execution_count": 5,
      "metadata": {
        "collapsed": true,
        "outputExpanded": false,
        "jupyter": {
          "source_hidden": false,
          "outputs_hidden": false
        },
        "nteract": {
          "transient": {
            "deleting": false
          }
        },
        "execution": {
          "iopub.status.busy": "2020-04-28T14:03:52.542Z",
          "iopub.execute_input": "2020-04-28T14:03:52.545Z",
          "iopub.status.idle": "2020-04-28T14:03:52.551Z",
          "shell.execute_reply": "2020-04-28T14:03:52.554Z"
        }
      }
    },
    {
      "cell_type": "code",
      "source": [
        "# Factorial calculation\n",
        "\n",
        "def fact(x):\n",
        "    if x == 1:\n",
        "        return 1\n",
        "    else:\n",
        "        return x * fact(x-1)"
      ],
      "outputs": [],
      "execution_count": 7,
      "metadata": {
        "collapsed": true,
        "outputExpanded": false,
        "jupyter": {
          "source_hidden": false,
          "outputs_hidden": false
        },
        "nteract": {
          "transient": {
            "deleting": false
          }
        },
        "execution": {
          "iopub.status.busy": "2020-04-28T14:05:17.945Z",
          "iopub.execute_input": "2020-04-28T14:05:17.952Z",
          "iopub.status.idle": "2020-04-28T14:05:17.958Z",
          "shell.execute_reply": "2020-04-28T14:05:17.962Z"
        }
      }
    },
    {
      "cell_type": "code",
      "source": [],
      "outputs": [],
      "execution_count": null,
      "metadata": {
        "collapsed": true,
        "outputExpanded": false,
        "jupyter": {
          "source_hidden": false,
          "outputs_hidden": false
        },
        "nteract": {
          "transient": {
            "deleting": false
          }
        }
      }
    }
  ],
  "metadata": {
    "kernel_info": {
      "name": "python3"
    },
    "language_info": {
      "name": "python",
      "version": "3.8.2",
      "mimetype": "text/x-python",
      "codemirror_mode": {
        "name": "ipython",
        "version": 3
      },
      "pygments_lexer": "ipython3",
      "nbconvert_exporter": "python",
      "file_extension": ".py"
    },
    "kernelspec": {
      "argv": [
        "/Library/Frameworks/Python.framework/Versions/3.8/bin/python3",
        "-m",
        "ipykernel_launcher",
        "-f",
        "{connection_file}"
      ],
      "display_name": "Python 3",
      "language": "python",
      "name": "python3"
    },
    "nteract": {
      "version": "0.22.4"
    }
  },
  "nbformat": 4,
  "nbformat_minor": 0
}