{
  "cells": [
    {
      "cell_type": "markdown",
      "source": [
        "## Binary search"
      ],
      "metadata": {
        "nteract": {
          "transient": {
            "deleting": false
          }
        }
      }
    },
    {
      "cell_type": "code",
      "source": [
        "def binary_search(list, item):\n",
        "    low = 0\n",
        "    high = len(list) - 1\n",
        "    \n",
        "    while low <= high:\n",
        "        mid = (low + high) // 2 \n",
        "        guess = list[mid]\n",
        "        \n",
        "        if guess == item: \n",
        "            return mid\n",
        "        \n",
        "        elif guess > item:\n",
        "            high = mid - 1\n",
        "            \n",
        "        else:\n",
        "            low = mid + 1\n",
        "    return None"
      ],
      "outputs": [],
      "execution_count": 1,
      "metadata": {
        "collapsed": true,
        "outputExpanded": false,
        "jupyter": {
          "source_hidden": false,
          "outputs_hidden": false
        },
        "nteract": {
          "transient": {
            "deleting": false
          }
        },
        "execution": {
          "shell.execute_reply": "2020-04-28T13:56:50.965Z",
          "iopub.status.busy": "2020-04-28T13:56:50.976Z",
          "iopub.execute_input": "2020-04-28T13:56:50.980Z",
          "iopub.status.idle": "2020-04-28T13:56:50.985Z"
        }
      }
    },
    {
      "cell_type": "code",
      "source": [],
      "outputs": [],
      "execution_count": null,
      "metadata": {
        "collapsed": true,
        "outputExpanded": false,
        "jupyter": {
          "source_hidden": false,
          "outputs_hidden": false
        },
        "nteract": {
          "transient": {
            "deleting": false
          }
        }
      }
    }
  ],
  "metadata": {
    "kernel_info": {
      "name": "python3"
    },
    "language_info": {
      "name": "python",
      "version": "3.8.2",
      "mimetype": "text/x-python",
      "codemirror_mode": {
        "name": "ipython",
        "version": 3
      },
      "pygments_lexer": "ipython3",
      "nbconvert_exporter": "python",
      "file_extension": ".py"
    },
    "kernelspec": {
      "argv": [
        "/Library/Frameworks/Python.framework/Versions/3.8/bin/python3",
        "-m",
        "ipykernel_launcher",
        "-f",
        "{connection_file}"
      ],
      "display_name": "Python 3",
      "language": "python",
      "name": "python3"
    },
    "nteract": {
      "version": "0.22.4"
    }
  },
  "nbformat": 4,
  "nbformat_minor": 0
}