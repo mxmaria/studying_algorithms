{
  "cells": [
    {
      "cell_type": "markdown",
      "source": [
        "## Divide-and-conquer algorithm"
      ],
      "metadata": {
        "nteract": {
          "transient": {
            "deleting": false
          }
        }
      }
    },
    {
      "cell_type": "code",
      "source": [
        "# Find the summ of all elements in list\n",
        "\n",
        "def summ(list):\n",
        "    if list == []:\n",
        "        return 0\n",
        "    else:\n",
        "        return list[0] + summ(list[1:])"
      ],
      "outputs": [],
      "execution_count": 1,
      "metadata": {
        "collapsed": true,
        "outputExpanded": false,
        "jupyter": {
          "source_hidden": false,
          "outputs_hidden": false
        },
        "nteract": {
          "transient": {
            "deleting": false
          }
        },
        "execution": {
          "shell.execute_reply": "2020-04-28T14:07:25.774Z",
          "iopub.status.busy": "2020-04-28T14:07:25.787Z",
          "iopub.execute_input": "2020-04-28T14:07:25.791Z",
          "iopub.status.idle": "2020-04-28T14:07:25.795Z"
        }
      }
    },
    {
      "cell_type": "code",
      "source": [
        "# Count elements in list\n",
        "\n",
        "def count_elems(list):\n",
        "    if list == []:\n",
        "        return 0\n",
        "    else:\n",
        "        return 1 + count_elems(list[1:])"
      ],
      "outputs": [],
      "execution_count": 2,
      "metadata": {
        "collapsed": true,
        "outputExpanded": false,
        "jupyter": {
          "source_hidden": false,
          "outputs_hidden": false
        },
        "nteract": {
          "transient": {
            "deleting": false
          }
        },
        "execution": {
          "iopub.status.busy": "2020-04-28T14:07:41.191Z",
          "iopub.execute_input": "2020-04-28T14:07:41.196Z",
          "iopub.status.idle": "2020-04-28T14:07:41.201Z",
          "shell.execute_reply": "2020-04-28T14:07:41.206Z"
        }
      }
    },
    {
      "cell_type": "code",
      "source": [
        "# Find max number in list\n",
        "\n",
        "def maximum(list):\n",
        "    if len(list) == 2:\n",
        "        return list[0] if list[0] > list[1] else list[1]\n",
        "    else:\n",
        "        sub_max = max(list[1:])\n",
        "        return list[0] if list[0] > sub_max else sub_max"
      ],
      "outputs": [],
      "execution_count": 3,
      "metadata": {
        "collapsed": true,
        "outputExpanded": false,
        "jupyter": {
          "source_hidden": false,
          "outputs_hidden": false
        },
        "nteract": {
          "transient": {
            "deleting": false
          }
        },
        "execution": {
          "iopub.status.busy": "2020-04-28T14:07:49.193Z",
          "iopub.execute_input": "2020-04-28T14:07:49.196Z",
          "iopub.status.idle": "2020-04-28T14:07:49.202Z",
          "shell.execute_reply": "2020-04-28T14:07:49.205Z"
        }
      }
    },
    {
      "cell_type": "code",
      "source": [],
      "outputs": [],
      "execution_count": null,
      "metadata": {
        "collapsed": true,
        "outputExpanded": false,
        "jupyter": {
          "source_hidden": false,
          "outputs_hidden": false
        },
        "nteract": {
          "transient": {
            "deleting": false
          }
        }
      }
    }
  ],
  "metadata": {
    "kernel_info": {
      "name": "python3"
    },
    "language_info": {
      "name": "python",
      "version": "3.8.2",
      "mimetype": "text/x-python",
      "codemirror_mode": {
        "name": "ipython",
        "version": 3
      },
      "pygments_lexer": "ipython3",
      "nbconvert_exporter": "python",
      "file_extension": ".py"
    },
    "kernelspec": {
      "argv": [
        "/Library/Frameworks/Python.framework/Versions/3.8/bin/python3",
        "-m",
        "ipykernel_launcher",
        "-f",
        "{connection_file}"
      ],
      "display_name": "Python 3",
      "language": "python",
      "name": "python3"
    },
    "nteract": {
      "version": "0.22.4"
    }
  },
  "nbformat": 4,
  "nbformat_minor": 0
}