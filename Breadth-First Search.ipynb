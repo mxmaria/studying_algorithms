{
  "cells": [
    {
      "cell_type": "markdown",
      "source": [
        "## Breadth-First Search (BFS)"
      ],
      "metadata": {
        "nteract": {
          "transient": {
            "deleting": false
          }
        }
      }
    },
    {
      "cell_type": "code",
      "source": [
        "from collections import deque"
      ],
      "outputs": [],
      "execution_count": 1,
      "metadata": {
        "collapsed": true,
        "jupyter": {
          "source_hidden": false,
          "outputs_hidden": false
        },
        "nteract": {
          "transient": {
            "deleting": false
          }
        },
        "execution": {
          "iopub.status.busy": "2020-07-16T18:19:38.038Z",
          "iopub.execute_input": "2020-07-16T18:19:38.044Z",
          "iopub.status.idle": "2020-07-16T18:19:38.050Z",
          "shell.execute_reply": "2020-07-16T18:19:37.999Z"
        }
      }
    },
    {
      "cell_type": "code",
      "source": [
        "def bfs(graph, start_vertex):\n",
        "    distances = {}\n",
        "    distances[start_vertex] = 0\n",
        "    queue = deque([start_vertex])\n",
        "    \n",
        "    while queue:\n",
        "        current_vertex = queue.popleft()\n",
        "        \n",
        "        for neighbor_vertex in graph[current_vertex]:\n",
        "            if neighbor_vertex not in distances:\n",
        "                distances[neighbor_vertex] = distances[current_vertex] + 1\n",
        "                queue.append(neighbor_vertex)\n",
        "                \n",
        "    return distances"
      ],
      "outputs": [],
      "execution_count": 2,
      "metadata": {
        "collapsed": true,
        "jupyter": {
          "source_hidden": false,
          "outputs_hidden": false
        },
        "nteract": {
          "transient": {
            "deleting": false
          }
        },
        "execution": {
          "iopub.status.busy": "2020-07-16T18:19:38.057Z",
          "iopub.execute_input": "2020-07-16T18:19:38.061Z",
          "iopub.status.idle": "2020-07-16T18:19:38.066Z",
          "shell.execute_reply": "2020-07-16T18:19:38.009Z"
        }
      }
    },
    {
      "cell_type": "code",
      "source": [
        "graph = {1:[2,3], 2:[4], 3:[4,5], 4:[3,5], 5:[]}"
      ],
      "outputs": [],
      "execution_count": 3,
      "metadata": {
        "collapsed": true,
        "jupyter": {
          "source_hidden": false,
          "outputs_hidden": false
        },
        "nteract": {
          "transient": {
            "deleting": false
          }
        },
        "execution": {
          "iopub.status.busy": "2020-07-16T18:19:38.074Z",
          "iopub.execute_input": "2020-07-16T18:19:38.080Z",
          "iopub.status.idle": "2020-07-16T18:19:38.087Z",
          "shell.execute_reply": "2020-07-16T18:19:38.016Z"
        }
      }
    },
    {
      "cell_type": "code",
      "source": [
        "bfs(graph, 3)"
      ],
      "outputs": [
        {
          "output_type": "execute_result",
          "execution_count": 4,
          "data": {
            "text/plain": "{3: 0, 4: 1, 5: 1}"
          },
          "metadata": {}
        }
      ],
      "execution_count": 4,
      "metadata": {
        "collapsed": true,
        "jupyter": {
          "source_hidden": false,
          "outputs_hidden": false
        },
        "nteract": {
          "transient": {
            "deleting": false
          }
        },
        "execution": {
          "iopub.status.busy": "2020-07-16T18:19:38.094Z",
          "iopub.execute_input": "2020-07-16T18:19:38.099Z",
          "iopub.status.idle": "2020-07-16T18:19:38.111Z",
          "shell.execute_reply": "2020-07-16T18:19:38.023Z"
        }
      }
    },
    {
      "cell_type": "code",
      "source": [
        "bfs(graph, 1)"
      ],
      "outputs": [
        {
          "output_type": "execute_result",
          "execution_count": 5,
          "data": {
            "text/plain": "{1: 0, 2: 1, 3: 1, 4: 2, 5: 2}"
          },
          "metadata": {}
        }
      ],
      "execution_count": 5,
      "metadata": {
        "collapsed": true,
        "jupyter": {
          "source_hidden": false,
          "outputs_hidden": false
        },
        "nteract": {
          "transient": {
            "deleting": false
          }
        },
        "execution": {
          "iopub.status.busy": "2020-07-16T18:19:38.119Z",
          "iopub.execute_input": "2020-07-16T18:19:38.124Z",
          "iopub.status.idle": "2020-07-16T18:19:38.131Z",
          "shell.execute_reply": "2020-07-16T18:19:38.028Z"
        }
      }
    }
  ],
  "metadata": {
    "kernel_info": {
      "name": "python3"
    },
    "language_info": {
      "name": "python",
      "version": "3.8.2",
      "mimetype": "text/x-python",
      "codemirror_mode": {
        "name": "ipython",
        "version": 3
      },
      "pygments_lexer": "ipython3",
      "nbconvert_exporter": "python",
      "file_extension": ".py"
    },
    "kernelspec": {
      "argv": [
        "/Library/Frameworks/Python.framework/Versions/3.8/bin/python3",
        "-m",
        "ipykernel_launcher",
        "-f",
        "{connection_file}"
      ],
      "display_name": "Python 3",
      "language": "python",
      "name": "python3"
    },
    "nteract": {
      "version": "0.24.0"
    }
  },
  "nbformat": 4,
  "nbformat_minor": 0
}