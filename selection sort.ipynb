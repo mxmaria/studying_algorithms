{
  "cells": [
    {
      "cell_type": "markdown",
      "source": [
        "## Selection sort"
      ],
      "metadata": {
        "nteract": {
          "transient": {
            "deleting": false
          }
        }
      }
    },
    {
      "cell_type": "code",
      "source": [
        "#find the smallest element in array\n",
        "\n",
        "def find_smallest(arr):\n",
        "    smallest = arr[0]\n",
        "    smallest_index = 0\n",
        "    for i in range(1, len(arr)):\n",
        "        if arr[i] < smallest:\n",
        "            smallest = arr[i]\n",
        "            smallest_index = i\n",
        "    return smallest_index"
      ],
      "outputs": [],
      "execution_count": 1,
      "metadata": {
        "collapsed": true,
        "outputExpanded": false,
        "jupyter": {
          "source_hidden": false,
          "outputs_hidden": false
        },
        "nteract": {
          "transient": {
            "deleting": false
          }
        },
        "execution": {
          "shell.execute_reply": "2020-04-28T13:58:50.478Z",
          "iopub.status.busy": "2020-04-28T13:58:50.489Z",
          "iopub.execute_input": "2020-04-28T13:58:50.495Z",
          "iopub.status.idle": "2020-04-28T13:58:50.499Z"
        }
      }
    },
    {
      "cell_type": "code",
      "source": [
        "# selection sort\n",
        "\n",
        "def selection_sort(arr):\n",
        "    new_arr = []\n",
        "    for i in range(len(arr)):\n",
        "        smallest = find_smallest(arr)\n",
        "        new_arr.append(arr.pop(smallest))\n",
        "    return new_arr"
      ],
      "outputs": [],
      "execution_count": 2,
      "metadata": {
        "collapsed": true,
        "outputExpanded": false,
        "jupyter": {
          "source_hidden": false,
          "outputs_hidden": false
        },
        "nteract": {
          "transient": {
            "deleting": false
          }
        },
        "execution": {
          "iopub.status.busy": "2020-04-28T13:59:00.092Z",
          "iopub.execute_input": "2020-04-28T13:59:00.095Z",
          "iopub.status.idle": "2020-04-28T13:59:00.100Z",
          "shell.execute_reply": "2020-04-28T13:59:00.105Z"
        }
      }
    },
    {
      "cell_type": "code",
      "source": [],
      "outputs": [],
      "execution_count": null,
      "metadata": {
        "collapsed": true,
        "outputExpanded": false,
        "jupyter": {
          "source_hidden": false,
          "outputs_hidden": false
        },
        "nteract": {
          "transient": {
            "deleting": false
          }
        }
      }
    }
  ],
  "metadata": {
    "kernel_info": {
      "name": "python3"
    },
    "language_info": {
      "name": "python",
      "version": "3.8.2",
      "mimetype": "text/x-python",
      "codemirror_mode": {
        "name": "ipython",
        "version": 3
      },
      "pygments_lexer": "ipython3",
      "nbconvert_exporter": "python",
      "file_extension": ".py"
    },
    "kernelspec": {
      "argv": [
        "/Library/Frameworks/Python.framework/Versions/3.8/bin/python3",
        "-m",
        "ipykernel_launcher",
        "-f",
        "{connection_file}"
      ],
      "display_name": "Python 3",
      "language": "python",
      "name": "python3"
    },
    "nteract": {
      "version": "0.22.4"
    }
  },
  "nbformat": 4,
  "nbformat_minor": 0
}